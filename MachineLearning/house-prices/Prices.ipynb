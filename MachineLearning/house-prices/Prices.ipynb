{
 "cells": [
  {
   "cell_type": "markdown",
   "id": "24cc46cc-aeb8-4e52-ac35-ce114f930576",
   "metadata": {},
   "source": [
    "# Calculate House Prices\n",
    "\n",
    "This is for the Kaggle competition, for calculating House prices\n",
    "\n",
    "The Ames Housing dataset was compiled by Dean De Cock for use in data science education. It's an incredible alternative for data scientists looking for a modernized and expanded version of the often cited Boston Housing dataset. \n"
   ]
  },
  {
   "cell_type": "code",
   "execution_count": 1,
   "id": "4c2b3ce8-d646-4d05-a3bb-271ae392aa48",
   "metadata": {},
   "outputs": [],
   "source": [
    "import pandas as pd\n",
    "import numpy as np\n",
    "import matplotlib.pyplot as plt\n",
    "from sklearn.linear_model import LinearRegression\n",
    "from sklearn.metrics import mean_squared_error\n",
    "from sklearn.model_selection import train_test_split\n",
    "from sklearn.ensemble import RandomForestRegressor"
   ]
  },
  {
   "cell_type": "code",
   "execution_count": 2,
   "id": "c666a8a4-75ee-467c-86a0-2b50d3af5c4d",
   "metadata": {},
   "outputs": [],
   "source": [
    "df = pd.read_csv(\"train.csv\")"
   ]
  },
  {
   "cell_type": "code",
   "execution_count": 3,
   "id": "e595339c-3895-45e4-916f-7789aec9bbd9",
   "metadata": {},
   "outputs": [],
   "source": [
    "cols = [column for column in df if df[column].dtype != 'object']\n",
    "for col in cols:\n",
    "    df[col] = df[col].fillna(df[col].mean())\n",
    "cols = [col for col in df if df[col].dtype == 'object']\n",
    "for col in cols:\n",
    "    df[col] = df[col].fillna(df[col].mode()[0])"
   ]
  },
  {
   "cell_type": "code",
   "execution_count": 4,
   "id": "a6e57268-a2db-4071-8871-afd2b13935bf",
   "metadata": {},
   "outputs": [
    {
     "data": {
      "text/plain": [
       "79442.50288288662"
      ]
     },
     "execution_count": 4,
     "metadata": {},
     "output_type": "execute_result"
    }
   ],
   "source": [
    "X = df.drop('SalePrice', axis=1)\n",
    "y = df['SalePrice']\n",
    "X = pd.get_dummies(X)\n",
    "df = pd.read_csv('test.csv')\n",
    "df = pd.get_dummies(df)\n",
    "for col in X:\n",
    "    if col not in df:\n",
    "        X = X.drop(col,axis=1)\n",
    "y.std()"
   ]
  },
  {
   "cell_type": "code",
   "execution_count": 5,
   "id": "b34ef1c3-ffb5-49a5-b5d1-0db57460c029",
   "metadata": {},
   "outputs": [],
   "source": [
    "X_train, X_test, y_train, y_test = train_test_split(X,y, test_size=0.3, random_state=42)\n",
    "model = RandomForestRegressor()\n",
    "model.fit(X_train,y_train)\n",
    "y_pred = model.predict(X_test)"
   ]
  },
  {
   "cell_type": "code",
   "execution_count": 6,
   "id": "8135e9f9-154f-4112-b029-072f1e7f2313",
   "metadata": {},
   "outputs": [
    {
     "data": {
      "text/plain": [
       "27677.361513437318"
      ]
     },
     "execution_count": 6,
     "metadata": {},
     "output_type": "execute_result"
    }
   ],
   "source": [
    "np.sqrt(mean_squared_error(y_pred,y_test))"
   ]
  },
  {
   "cell_type": "code",
   "execution_count": 15,
   "id": "8bc48398-cb70-4d49-9982-700fa8509cab",
   "metadata": {},
   "outputs": [],
   "source": [
    "pred = model.predict(df)\n",
    "final = pd.DataFrame({'Id':df.Id,'SalePrice':pred})\n",
    "final.to_csv('final.csv', index=False)"
   ]
  }
 ],
 "metadata": {
  "kernelspec": {
   "display_name": "Python 3 (ipykernel)",
   "language": "python",
   "name": "python3"
  },
  "language_info": {
   "codemirror_mode": {
    "name": "ipython",
    "version": 3
   },
   "file_extension": ".py",
   "mimetype": "text/x-python",
   "name": "python",
   "nbconvert_exporter": "python",
   "pygments_lexer": "ipython3",
   "version": "3.12.3"
  }
 },
 "nbformat": 4,
 "nbformat_minor": 5
}
